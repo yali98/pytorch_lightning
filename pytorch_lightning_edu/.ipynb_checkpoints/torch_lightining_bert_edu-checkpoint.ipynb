{
 "cells": [
  {
   "cell_type": "code",
   "execution_count": 2,
   "metadata": {},
   "outputs": [
    {
     "name": "stdout",
     "output_type": "stream",
     "text": [
      "fatal: 대상 경로가('nsmc') 이미 있고 빈 디렉터리가 아닙니다.\r\n"
     ]
    }
   ],
   "source": [
    "!git clone https://github.com/e9t/nsmc.git"
   ]
  },
  {
   "cell_type": "markdown",
   "metadata": {},
   "source": [
    "## naver 영화 데이터"
   ]
  },
  {
   "cell_type": "code",
   "execution_count": 3,
   "metadata": {},
   "outputs": [
    {
     "name": "stdout",
     "output_type": "stream",
     "text": [
      "id\tdocument\tlabel\r\n",
      "8112052\t어릴때보고 지금다시봐도 재밌어요ㅋㅋ\t1\r\n",
      "8132799\t디자인을 배우는 학생으로, 외국디자이너와 그들이 일군 전통을 통해 발전해가는 문화산업이 부러웠는데. 사실 우리나라에서도 그 어려운시절에 끝까지 열정을 지킨 노라노 같은 전통이있어 저와 같은 사람들이 꿈을 꾸고 이뤄나갈 수 있다는 것에 감사합니다.\t1\r\n",
      "4655635\t폴리스스토리 시리즈는 1부터 뉴까지 버릴께 하나도 없음.. 최고.\t1\r\n",
      "9251303\t와.. 연기가 진짜 개쩔구나.. 지루할거라고 생각했는데 몰입해서 봤다.. 그래 이런게 진짜 영화지\t1\r\n",
      "10067386\t안개 자욱한 밤하늘에 떠 있는 초승달 같은 영화.\t1\r\n",
      "2190435\t사랑을 해본사람이라면 처음부터 끝까지 웃을수 있는영화\t1\r\n",
      "9279041\t완전 감동입니다 다시봐도 감동\t1\r\n",
      "7865729\t개들의 전쟁2 나오나요? 나오면 1빠로 보고 싶음\t1\r\n",
      "7477618\t굿\t1\r\n"
     ]
    }
   ],
   "source": [
    "!head ./nsmc/ratings.txt"
   ]
  },
  {
   "cell_type": "code",
   "execution_count": 4,
   "metadata": {},
   "outputs": [
    {
     "name": "stdout",
     "output_type": "stream",
     "text": [
      "id\tdocument\tlabel\r\n",
      "9976970\t아 더빙.. 진짜 짜증나네요 목소리\t0\r\n",
      "3819312\t흠...포스터보고 초딩영화줄....오버연기조차 가볍지 않구나\t1\r\n",
      "10265843\t너무재밓었다그래서보는것을추천한다\t0\r\n",
      "9045019\t교도소 이야기구먼 ..솔직히 재미는 없다..평점 조정\t0\r\n",
      "6483659\t사이몬페그의 익살스런 연기가 돋보였던 영화!스파이더맨에서 늙어보이기만 했던 커스틴 던스트가 너무나도 이뻐보였다\t1\r\n",
      "5403919\t막 걸음마 뗀 3세부터 초등학교 1학년생인 8살용영화.ㅋㅋㅋ...별반개도 아까움.\t0\r\n",
      "7797314\t원작의 긴장감을 제대로 살려내지못했다.\t0\r\n",
      "9443947\t별 반개도 아깝다 욕나온다 이응경 길용우 연기생활이몇년인지..정말 발로해도 그것보단 낫겟다 납치.감금만반복반복..이드라마는 가족도없다 연기못하는사람만모엿네\t0\r\n",
      "7156791\t액션이 없는데도 재미 있는 몇안되는 영화\t1\r\n"
     ]
    }
   ],
   "source": [
    "!head ./nsmc/ratings_train.txt"
   ]
  },
  {
   "cell_type": "markdown",
   "metadata": {},
   "source": [
    "## data preprocessing 예시\n",
    "## : null지우기"
   ]
  },
  {
   "cell_type": "code",
   "execution_count": 5,
   "metadata": {},
   "outputs": [],
   "source": [
    "import pandas as pd\n",
    "\n",
    "train = pd.read_csv('./nsmc/ratings_train.txt', sep='\\t')\n",
    "test = pd.read_csv('./nsmc/ratings_test.txt', sep='\\t')\n",
    "\n",
    "# 필요없는 열은 drop\n",
    "train.drop(['id'], axis=1, inplace=True)\n",
    "test.drop(['id'], axis=1, inplace=True)"
   ]
  },
  {
   "cell_type": "code",
   "execution_count": 6,
   "metadata": {},
   "outputs": [
    {
     "name": "stdout",
     "output_type": "stream",
     "text": [
      "trainset null 개수:\n",
      "document    5\n",
      "label       0\n",
      "dtype: int64\n",
      "\n",
      "testset null 개수:\n",
      "document    3\n",
      "label       0\n",
      "dtype: int64\n"
     ]
    }
   ],
   "source": [
    "print(f'trainset null 개수:\\n{train.isnull().sum()}\\n')\n",
    "print(f'testset null 개수:\\n{test.isnull().sum()}')"
   ]
  },
  {
   "cell_type": "code",
   "execution_count": 7,
   "metadata": {},
   "outputs": [],
   "source": [
    "train.dropna(inplace=True)\n",
    "test.dropna(inplace=True)"
   ]
  },
  {
   "cell_type": "markdown",
   "metadata": {},
   "source": [
    "## : 중복 제거"
   ]
  },
  {
   "cell_type": "code",
   "execution_count": 8,
   "metadata": {},
   "outputs": [
    {
     "name": "stdout",
     "output_type": "stream",
     "text": [
      "중복 제거 전 train length: 149995\n",
      "중복 제거 후 train length: 146182\n",
      "\n",
      "중복 제거 전 test length: 49997\n",
      "중복 제거 후 test length: 49157\n",
      "\n"
     ]
    }
   ],
   "source": [
    "print(f'중복 제거 전 train length: {len(train)}')\n",
    "train.drop_duplicates(subset=['document'], inplace=True, ignore_index=True)\n",
    "print(f'중복 제거 후 train length: {len(train)}\\n')\n",
    "print(f'중복 제거 전 test length: {len(test)}')\n",
    "test.drop_duplicates(subset=['document'], inplace=True, ignore_index=True)\n",
    "print(f'중복 제거 후 test length: {len(test)}\\n')"
   ]
  },
  {
   "cell_type": "markdown",
   "metadata": {},
   "source": [
    "## : 정규식 사용"
   ]
  },
  {
   "cell_type": "code",
   "execution_count": null,
   "metadata": {},
   "outputs": [
    {
     "name": "stderr",
     "output_type": "stream",
     "text": [
      "removing_non_korean:  25%|█████████████████████████████████████████▏                                                                                                                            | 36257/146182 [01:18<03:56, 464.43it/s]"
     ]
    }
   ],
   "source": [
    "import re\n",
    "from tqdm import tqdm\n",
    "\n",
    "def removing_non_korean(df):\n",
    "    for idx, row in tqdm(df.iterrows(), desc='removing_non_korean', total=len(df)):\n",
    "        new_doc = re.sub('[^가-힣]', '', row['document']).strip()\n",
    "        df.loc[idx, 'document'] = new_doc\n",
    "    return df\n",
    "\n",
    "train = removing_non_korean(train)\n",
    "test = removing_non_korean(test)"
   ]
  },
  {
   "cell_type": "markdown",
   "metadata": {},
   "source": [
    "## 완료한 다음 데이터 형식"
   ]
  },
  {
   "cell_type": "code",
   "execution_count": null,
   "metadata": {},
   "outputs": [],
   "source": [
    "train.head(10)"
   ]
  },
  {
   "cell_type": "markdown",
   "metadata": {},
   "source": [
    "## 형태소 분석 후 불필요한 데이터 제거- mecab 사용"
   ]
  },
  {
   "cell_type": "code",
   "execution_count": null,
   "metadata": {},
   "outputs": [],
   "source": [
    "tags = ['JK', 'JKS', 'JKC', 'JKG', 'JKO', 'JKB', 'JKV', 'JKQ', 'JX', 'JC', 'EP', 'EF', 'EC', 'ETN', 'ETM']\n",
    "#https://openuiz.tistory.com/90 참조\n",
    "from konlpy.tag import Mecab\n",
    "\n",
    "m = Mecab()\n",
    "\n",
    "def remove_josa_mecab(df, tags):\n",
    "    for idx, row in tqdm(df.iterrows(), desc='removing josa', total=len(df)):\n",
    "        josa_removed = [x[0] for x in m.pos(row['document']) if x[1] not in tags]\n",
    "        df.loc[idx, 'document'] = ' '.join(josa_removed)\n",
    "    return df\n",
    "\n",
    "train_mecab = remove_josa_mecab(train, tags)\n",
    "test_mecab = remove_josa_mecab(test, tags)"
   ]
  },
  {
   "cell_type": "markdown",
   "metadata": {},
   "source": [
    "## (komoran을 사용할 경우)"
   ]
  },
  {
   "cell_type": "code",
   "execution_count": null,
   "metadata": {},
   "outputs": [],
   "source": [
    "\"\"\"\n",
    "from konlpy.tag import Komoran\n",
    "\n",
    "k = Komoran()\n",
    "\n",
    "def remove_josa_komoran(df, tags):\n",
    "    for idx, row in tqdm(df.iterrows(), desc='removing josa', total=len(df)):\n",
    "        josa_removed = [x[0] for x in k.pos(row['document']) if x[1] not in tags]\n",
    "        df.loc[idx, 'document'] = ' '.join(josa_removed)\n",
    "    return df\n",
    "\n",
    "train_komoran = remove_josa_komoran(train, tags)\n",
    "test_komoran = remove_josa_komoran(test, tags)\n",
    "\"\"\""
   ]
  },
  {
   "cell_type": "code",
   "execution_count": null,
   "metadata": {},
   "outputs": [],
   "source": [
    "train_mecab.head(10)"
   ]
  },
  {
   "cell_type": "markdown",
   "metadata": {},
   "source": [
    "## 클래스 분포 차이가 많이 나면 특정 클래스에 편향되서 학습하게 되므로 이를 확인해보자"
   ]
  },
  {
   "cell_type": "code",
   "execution_count": null,
   "metadata": {},
   "outputs": [],
   "source": [
    "import matplotlib.pyplot as plt\n",
    "plt.style.use('seaborn')\n",
    "\n",
    "train_mecab_vlcnt = train_mecab['label'].value_counts().reset_index()\n",
    "\n",
    "plt.subplot(1, 2, 1)\n",
    "plt.title('train_mecab', fontsize=20)\n",
    "plt.bar(train_mecab_vlcnt['index'], train_mecab_vlcnt['label'], color='skyblue')\n",
    "\n",
    "plt.show()"
   ]
  },
  {
   "cell_type": "code",
   "execution_count": null,
   "metadata": {},
   "outputs": [],
   "source": [
    "train_mecab.to_csv('data/train_mecab.csv', index=False)\n",
    "test_mecab.to_csv('data/test_mecab.csv', index=False)"
   ]
  }
 ],
 "metadata": {
  "kernelspec": {
   "display_name": "Python 3 (ipykernel)",
   "language": "python",
   "name": "python3"
  },
  "language_info": {
   "codemirror_mode": {
    "name": "ipython",
    "version": 3
   },
   "file_extension": ".py",
   "mimetype": "text/x-python",
   "name": "python",
   "nbconvert_exporter": "python",
   "pygments_lexer": "ipython3",
   "version": "3.8.10"
  }
 },
 "nbformat": 4,
 "nbformat_minor": 1
}
