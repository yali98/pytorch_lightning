{
 "cells": [
  {
   "cell_type": "code",
   "execution_count": 3,
   "metadata": {
    "collapsed": true
   },
   "outputs": [
    {
     "name": "stdout",
     "output_type": "stream",
     "text": [
      "fatal: destination path 'nsmc' already exists and is not an empty directory.\r\n"
     ]
    }
   ],
   "source": [
    "!git clone https://github.com/e9t/nsmc.git"
   ]
  },
  {
   "cell_type": "markdown",
   "source": [
    "## naver 영화 데이터"
   ],
   "metadata": {
    "collapsed": false
   }
  },
  {
   "cell_type": "code",
   "execution_count": 4,
   "outputs": [
    {
     "name": "stdout",
     "output_type": "stream",
     "text": [
      "id\tdocument\tlabel\r\n",
      "8112052\t어릴때보고 지금다시봐도 재밌어요ㅋㅋ\t1\r\n",
      "8132799\t디자인을 배우는 학생으로, 외국디자이너와 그들이 일군 전통을 통해 발전해가는 문화산업이 부러웠는데. 사실 우리나라에서도 그 어려운시절에 끝까지 열정을 지킨 노라노 같은 전통이있어 저와 같은 사람들이 꿈을 꾸고 이뤄나갈 수 있다는 것에 감사합니다.\t1\r\n",
      "4655635\t폴리스스토리 시리즈는 1부터 뉴까지 버릴께 하나도 없음.. 최고.\t1\r\n",
      "9251303\t와.. 연기가 진짜 개쩔구나.. 지루할거라고 생각했는데 몰입해서 봤다.. 그래 이런게 진짜 영화지\t1\r\n",
      "10067386\t안개 자욱한 밤하늘에 떠 있는 초승달 같은 영화.\t1\r\n",
      "2190435\t사랑을 해본사람이라면 처음부터 끝까지 웃을수 있는영화\t1\r\n",
      "9279041\t완전 감동입니다 다시봐도 감동\t1\r\n",
      "7865729\t개들의 전쟁2 나오나요? 나오면 1빠로 보고 싶음\t1\r\n",
      "7477618\t굿\t1\r\n"
     ]
    }
   ],
   "source": [
    "!head ./nsmc/ratings.txt"
   ],
   "metadata": {
    "collapsed": false
   }
  },
  {
   "cell_type": "code",
   "execution_count": 5,
   "outputs": [
    {
     "name": "stdout",
     "output_type": "stream",
     "text": [
      "id\tdocument\tlabel\r\n",
      "9976970\t아 더빙.. 진짜 짜증나네요 목소리\t0\r\n",
      "3819312\t흠...포스터보고 초딩영화줄....오버연기조차 가볍지 않구나\t1\r\n",
      "10265843\t너무재밓었다그래서보는것을추천한다\t0\r\n",
      "9045019\t교도소 이야기구먼 ..솔직히 재미는 없다..평점 조정\t0\r\n",
      "6483659\t사이몬페그의 익살스런 연기가 돋보였던 영화!스파이더맨에서 늙어보이기만 했던 커스틴 던스트가 너무나도 이뻐보였다\t1\r\n",
      "5403919\t막 걸음마 뗀 3세부터 초등학교 1학년생인 8살용영화.ㅋㅋㅋ...별반개도 아까움.\t0\r\n",
      "7797314\t원작의 긴장감을 제대로 살려내지못했다.\t0\r\n",
      "9443947\t별 반개도 아깝다 욕나온다 이응경 길용우 연기생활이몇년인지..정말 발로해도 그것보단 낫겟다 납치.감금만반복반복..이드라마는 가족도없다 연기못하는사람만모엿네\t0\r\n",
      "7156791\t액션이 없는데도 재미 있는 몇안되는 영화\t1\r\n"
     ]
    }
   ],
   "source": [
    "!head ./nsmc/ratings_train.txt"
   ],
   "metadata": {
    "collapsed": false
   }
  },
  {
   "cell_type": "markdown",
   "source": [
    "## data preprocessing 예시\n",
    "## : null지우기"
   ],
   "metadata": {
    "collapsed": false
   }
  },
  {
   "cell_type": "code",
   "execution_count": null,
   "outputs": [],
   "source": [
    "import pandas as pd\n",
    "\n",
    "train = pd.read_csv('./nsmc/ratings_train.txt', sep='\\t')\n",
    "test = pd.read_csv('./nsmc/ratings_test.txt', sep='\\t')\n",
    "\n",
    "# 필요없는 열은 drop\n",
    "train.drop(['id'], axis=1, inplace=True)\n",
    "test.drop(['id'], axis=1, inplace=True)"
   ],
   "metadata": {
    "collapsed": false,
    "pycharm": {
     "is_executing": true
    }
   }
  },
  {
   "cell_type": "code",
   "execution_count": 7,
   "outputs": [
    {
     "name": "stdout",
     "output_type": "stream",
     "text": [
      "trainset null 개수:\n",
      "document    5\n",
      "label       0\n",
      "dtype: int64\n",
      "\n",
      "testset null 개수:\n",
      "document    3\n",
      "label       0\n",
      "dtype: int64\n"
     ]
    }
   ],
   "source": [
    "print(f'trainset null 개수:\\n{train.isnull().sum()}\\n')\n",
    "print(f'testset null 개수:\\n{test.isnull().sum()}')"
   ],
   "metadata": {
    "collapsed": false
   }
  },
  {
   "cell_type": "code",
   "execution_count": 8,
   "outputs": [],
   "source": [
    "train.dropna(inplace=True)\n",
    "test.dropna(inplace=True)"
   ],
   "metadata": {
    "collapsed": false
   }
  },
  {
   "cell_type": "markdown",
   "source": [
    "## : 중복 제거"
   ],
   "metadata": {
    "collapsed": false
   }
  },
  {
   "cell_type": "code",
   "execution_count": 9,
   "outputs": [
    {
     "name": "stdout",
     "output_type": "stream",
     "text": [
      "중복 제거 전 train length: 149995\n",
      "중복 제거 후 train length: 146182\n",
      "\n",
      "중복 제거 전 test length: 49997\n",
      "중복 제거 후 test length: 49157\n",
      "\n"
     ]
    }
   ],
   "source": [
    "print(f'중복 제거 전 train length: {len(train)}')\n",
    "train.drop_duplicates(subset=['document'], inplace=True, ignore_index=True)\n",
    "print(f'중복 제거 후 train length: {len(train)}\\n')\n",
    "print(f'중복 제거 전 test length: {len(test)}')\n",
    "test.drop_duplicates(subset=['document'], inplace=True, ignore_index=True)\n",
    "print(f'중복 제거 후 test length: {len(test)}\\n')"
   ],
   "metadata": {
    "collapsed": false
   }
  },
  {
   "cell_type": "markdown",
   "source": [
    "## : 정규식 사용"
   ],
   "metadata": {
    "collapsed": false
   }
  },
  {
   "cell_type": "code",
   "execution_count": 10,
   "outputs": [
    {
     "name": "stderr",
     "output_type": "stream",
     "text": [
      "removing_non_korean: 100%|██████████| 146182/146182 [06:39<00:00, 366.05it/s]\n",
      "removing_non_korean: 100%|██████████| 49157/49157 [00:20<00:00, 2344.83it/s]\n"
     ]
    }
   ],
   "source": [
    "import re\n",
    "from tqdm import tqdm\n",
    "\n",
    "def removing_non_korean(df):\n",
    "    for idx, row in tqdm(df.iterrows(), desc='removing_non_korean', total=len(df)):\n",
    "        new_doc = re.sub('[^가-힣]', '', row['document']).strip()\n",
    "        df.loc[idx, 'document'] = new_doc\n",
    "    return df\n",
    "\n",
    "train = removing_non_korean(train)\n",
    "test = removing_non_korean(test)"
   ],
   "metadata": {
    "collapsed": false
   }
  },
  {
   "cell_type": "markdown",
   "source": [
    "## 완료한 다음 데이터 형식"
   ],
   "metadata": {
    "collapsed": false
   }
  },
  {
   "cell_type": "code",
   "execution_count": 14,
   "outputs": [
    {
     "data": {
      "text/plain": "                                            document  label\n0                              아 더 빙 진짜 짜증 나 네 요목 소리      0\n1                           흠 포스터 초딩 영화 줄 오버 연기 가볍 않      1\n2                                너무 재 밓었다그래서보는것을추천한다      0\n3                          교도소 이야기 구먼 솔직히 재미 없 평점 조정      0\n4  사이몬페그 익살 스런 연기 돋보였 영화 스파이더맨 늙 보이 했 커스틴던스트 너무나 ...      1\n5              막 걸음마 뗀 세 초등 학교 학년 생 인 살용 영화 별 반개 아까움      0\n6                                 원작 긴장감 제대로 살려 내 못했      0\n7  별반 개 아깝 욕 나온다 이응경 길용우 연기 생활 몇 년 인지 정말 발 해도 그것 ...      0\n8                                  액션 없 재미있 몇 안 되 영화      1\n9         왜 케 평점 낮 건데 꽤 볼 만 한데 헐리우드 식 화려 함 너무 길들여져 있      1",
      "text/html": "<div>\n<style scoped>\n    .dataframe tbody tr th:only-of-type {\n        vertical-align: middle;\n    }\n\n    .dataframe tbody tr th {\n        vertical-align: top;\n    }\n\n    .dataframe thead th {\n        text-align: right;\n    }\n</style>\n<table border=\"1\" class=\"dataframe\">\n  <thead>\n    <tr style=\"text-align: right;\">\n      <th></th>\n      <th>document</th>\n      <th>label</th>\n    </tr>\n  </thead>\n  <tbody>\n    <tr>\n      <th>0</th>\n      <td>아 더 빙 진짜 짜증 나 네 요목 소리</td>\n      <td>0</td>\n    </tr>\n    <tr>\n      <th>1</th>\n      <td>흠 포스터 초딩 영화 줄 오버 연기 가볍 않</td>\n      <td>1</td>\n    </tr>\n    <tr>\n      <th>2</th>\n      <td>너무 재 밓었다그래서보는것을추천한다</td>\n      <td>0</td>\n    </tr>\n    <tr>\n      <th>3</th>\n      <td>교도소 이야기 구먼 솔직히 재미 없 평점 조정</td>\n      <td>0</td>\n    </tr>\n    <tr>\n      <th>4</th>\n      <td>사이몬페그 익살 스런 연기 돋보였 영화 스파이더맨 늙 보이 했 커스틴던스트 너무나 ...</td>\n      <td>1</td>\n    </tr>\n    <tr>\n      <th>5</th>\n      <td>막 걸음마 뗀 세 초등 학교 학년 생 인 살용 영화 별 반개 아까움</td>\n      <td>0</td>\n    </tr>\n    <tr>\n      <th>6</th>\n      <td>원작 긴장감 제대로 살려 내 못했</td>\n      <td>0</td>\n    </tr>\n    <tr>\n      <th>7</th>\n      <td>별반 개 아깝 욕 나온다 이응경 길용우 연기 생활 몇 년 인지 정말 발 해도 그것 ...</td>\n      <td>0</td>\n    </tr>\n    <tr>\n      <th>8</th>\n      <td>액션 없 재미있 몇 안 되 영화</td>\n      <td>1</td>\n    </tr>\n    <tr>\n      <th>9</th>\n      <td>왜 케 평점 낮 건데 꽤 볼 만 한데 헐리우드 식 화려 함 너무 길들여져 있</td>\n      <td>1</td>\n    </tr>\n  </tbody>\n</table>\n</div>"
     },
     "execution_count": 14,
     "metadata": {},
     "output_type": "execute_result"
    }
   ],
   "source": [
    "train.head(10)"
   ],
   "metadata": {
    "collapsed": false
   }
  },
  {
   "cell_type": "markdown",
   "source": [
    "## 형태소 분석 후 불필요한 데이터 제거- mecab 사용"
   ],
   "metadata": {
    "collapsed": false
   }
  },
  {
   "cell_type": "code",
   "execution_count": 12,
   "outputs": [
    {
     "name": "stderr",
     "output_type": "stream",
     "text": [
      "removing josa: 100%|██████████| 146182/146182 [06:11<00:00, 393.58it/s]\n",
      "removing josa: 100%|██████████| 49157/49157 [00:25<00:00, 1948.54it/s]\n"
     ]
    }
   ],
   "source": [
    "tags = ['JK', 'JKS', 'JKC', 'JKG', 'JKO', 'JKB', 'JKV', 'JKQ', 'JX', 'JC', 'EP', 'EF', 'EC', 'ETN', 'ETM']\n",
    "#https://openuiz.tistory.com/90 참조\n",
    "from konlpy.tag import Mecab\n",
    "\n",
    "m = Mecab()\n",
    "\n",
    "def remove_josa_mecab(df, tags):\n",
    "    for idx, row in tqdm(df.iterrows(), desc='removing josa', total=len(df)):\n",
    "        josa_removed = [x[0] for x in m.pos(row['document']) if x[1] not in tags]\n",
    "        df.loc[idx, 'document'] = ' '.join(josa_removed)\n",
    "    return df\n",
    "\n",
    "train_mecab = remove_josa_mecab(train, tags)\n",
    "test_mecab = remove_josa_mecab(test, tags)"
   ],
   "metadata": {
    "collapsed": false
   }
  },
  {
   "cell_type": "markdown",
   "source": [
    "## (komoran을 사용할 경우)"
   ],
   "metadata": {
    "collapsed": false
   }
  },
  {
   "cell_type": "code",
   "execution_count": 13,
   "outputs": [
    {
     "data": {
      "text/plain": "\"\\nfrom konlpy.tag import Komoran\\n\\nk = Komoran()\\n\\ndef remove_josa_komoran(df, tags):\\n    for idx, row in tqdm(df.iterrows(), desc='removing josa', total=len(df)):\\n        josa_removed = [x[0] for x in k.pos(row['document']) if x[1] not in tags]\\n        df.loc[idx, 'document'] = ' '.join(josa_removed)\\n    return df\\n\\ntrain_komoran = remove_josa_komoran(train, tags)\\ntest_komoran = remove_josa_komoran(test, tags)\\n\""
     },
     "execution_count": 13,
     "metadata": {},
     "output_type": "execute_result"
    }
   ],
   "source": [
    "\"\"\"\n",
    "from konlpy.tag import Komoran\n",
    "\n",
    "k = Komoran()\n",
    "\n",
    "def remove_josa_komoran(df, tags):\n",
    "    for idx, row in tqdm(df.iterrows(), desc='removing josa', total=len(df)):\n",
    "        josa_removed = [x[0] for x in k.pos(row['document']) if x[1] not in tags]\n",
    "        df.loc[idx, 'document'] = ' '.join(josa_removed)\n",
    "    return df\n",
    "\n",
    "train_komoran = remove_josa_komoran(train, tags)\n",
    "test_komoran = remove_josa_komoran(test, tags)\n",
    "\"\"\""
   ],
   "metadata": {
    "collapsed": false
   }
  },
  {
   "cell_type": "code",
   "execution_count": 15,
   "outputs": [
    {
     "data": {
      "text/plain": "                                            document  label\n0                              아 더 빙 진짜 짜증 나 네 요목 소리      0\n1                           흠 포스터 초딩 영화 줄 오버 연기 가볍 않      1\n2                                너무 재 밓었다그래서보는것을추천한다      0\n3                          교도소 이야기 구먼 솔직히 재미 없 평점 조정      0\n4  사이몬페그 익살 스런 연기 돋보였 영화 스파이더맨 늙 보이 했 커스틴던스트 너무나 ...      1\n5              막 걸음마 뗀 세 초등 학교 학년 생 인 살용 영화 별 반개 아까움      0\n6                                 원작 긴장감 제대로 살려 내 못했      0\n7  별반 개 아깝 욕 나온다 이응경 길용우 연기 생활 몇 년 인지 정말 발 해도 그것 ...      0\n8                                  액션 없 재미있 몇 안 되 영화      1\n9         왜 케 평점 낮 건데 꽤 볼 만 한데 헐리우드 식 화려 함 너무 길들여져 있      1",
      "text/html": "<div>\n<style scoped>\n    .dataframe tbody tr th:only-of-type {\n        vertical-align: middle;\n    }\n\n    .dataframe tbody tr th {\n        vertical-align: top;\n    }\n\n    .dataframe thead th {\n        text-align: right;\n    }\n</style>\n<table border=\"1\" class=\"dataframe\">\n  <thead>\n    <tr style=\"text-align: right;\">\n      <th></th>\n      <th>document</th>\n      <th>label</th>\n    </tr>\n  </thead>\n  <tbody>\n    <tr>\n      <th>0</th>\n      <td>아 더 빙 진짜 짜증 나 네 요목 소리</td>\n      <td>0</td>\n    </tr>\n    <tr>\n      <th>1</th>\n      <td>흠 포스터 초딩 영화 줄 오버 연기 가볍 않</td>\n      <td>1</td>\n    </tr>\n    <tr>\n      <th>2</th>\n      <td>너무 재 밓었다그래서보는것을추천한다</td>\n      <td>0</td>\n    </tr>\n    <tr>\n      <th>3</th>\n      <td>교도소 이야기 구먼 솔직히 재미 없 평점 조정</td>\n      <td>0</td>\n    </tr>\n    <tr>\n      <th>4</th>\n      <td>사이몬페그 익살 스런 연기 돋보였 영화 스파이더맨 늙 보이 했 커스틴던스트 너무나 ...</td>\n      <td>1</td>\n    </tr>\n    <tr>\n      <th>5</th>\n      <td>막 걸음마 뗀 세 초등 학교 학년 생 인 살용 영화 별 반개 아까움</td>\n      <td>0</td>\n    </tr>\n    <tr>\n      <th>6</th>\n      <td>원작 긴장감 제대로 살려 내 못했</td>\n      <td>0</td>\n    </tr>\n    <tr>\n      <th>7</th>\n      <td>별반 개 아깝 욕 나온다 이응경 길용우 연기 생활 몇 년 인지 정말 발 해도 그것 ...</td>\n      <td>0</td>\n    </tr>\n    <tr>\n      <th>8</th>\n      <td>액션 없 재미있 몇 안 되 영화</td>\n      <td>1</td>\n    </tr>\n    <tr>\n      <th>9</th>\n      <td>왜 케 평점 낮 건데 꽤 볼 만 한데 헐리우드 식 화려 함 너무 길들여져 있</td>\n      <td>1</td>\n    </tr>\n  </tbody>\n</table>\n</div>"
     },
     "execution_count": 15,
     "metadata": {},
     "output_type": "execute_result"
    }
   ],
   "source": [
    "train_mecab.head(10)"
   ],
   "metadata": {
    "collapsed": false
   }
  },
  {
   "cell_type": "markdown",
   "source": [
    "## 클래스 분포 차이가 많이 나면 특정 클래스에 편향되서 학습하게 되므로 이를 확인해보자"
   ],
   "metadata": {
    "collapsed": false
   }
  },
  {
   "cell_type": "code",
   "execution_count": 18,
   "outputs": [
    {
     "name": "stderr",
     "output_type": "stream",
     "text": [
      "/tmp/ipykernel_66879/3308272786.py:2: MatplotlibDeprecationWarning: The seaborn styles shipped by Matplotlib are deprecated since 3.6, as they no longer correspond to the styles shipped by seaborn. However, they will remain available as 'seaborn-v0_8-<style>'. Alternatively, directly use the seaborn API instead.\n",
      "  plt.style.use('seaborn')\n"
     ]
    },
    {
     "data": {
      "text/plain": "<Figure size 800x550 with 1 Axes>",
      "image/png": "[encoded data removed]"
     },
     "metadata": {},
     "output_type": "display_data"
    }
   ],
   "source": [
    "import matplotlib.pyplot as plt\n",
    "plt.style.use('seaborn')\n",
    "\n",
    "train_mecab_vlcnt = train_mecab['label'].value_counts().reset_index()\n",
    "\n",
    "plt.subplot(1, 2, 1)\n",
    "plt.title('train_mecab', fontsize=20)\n",
    "plt.bar(train_mecab_vlcnt['index'], train_mecab_vlcnt['label'], color='skyblue')\n",
    "\n",
    "plt.show()"
   ],
   "metadata": {
    "collapsed": false
   }
  },
  {
   "cell_type": "code",
   "execution_count": null,
   "outputs": [],
   "source": [
    "train_mecab.to_csv('data/train_mecab.csv', index=False)\n",
    "test_mecab.to_csv('data/test_mecab.csv', index=False)"
   ],
   "metadata": {
    "collapsed": false
   }
  }
 ],
 "metadata": {
  "kernelspec": {
   "display_name": "Python 3",
   "language": "python",
   "name": "python3"
  },
  "language_info": {
   "codemirror_mode": {
    "name": "ipython",
    "version": 2
   },
   "file_extension": ".py",
   "mimetype": "text/x-python",
   "name": "python",
   "nbconvert_exporter": "python",
   "pygments_lexer": "ipython2",
   "version": "2.7.6"
  }
 },
 "nbformat": 4,
 "nbformat_minor": 0
}
